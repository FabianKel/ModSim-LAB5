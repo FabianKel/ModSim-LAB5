{
 "cells": [
  {
   "cell_type": "markdown",
   "id": "ec97e0ac",
   "metadata": {},
   "source": [
    "# **Laboratorio 5**\n",
    "## **Parte 1**\n",
    "\n",
    "- Derek Arreaga - 22537\n",
    "- Paula Barillas - 22764\n",
    "- Mónica Salvatierra - 22249\n",
    "\n",
    "Link del repositorio: https://github.com/FabianKel/ModSim-LAB5"
   ]
  },
  {
   "cell_type": "markdown",
   "id": "1c0ff267",
   "metadata": {},
   "source": [
    "### **Teoría**\n",
    "\n",
    "Defina y responda"
   ]
  },
  {
   "cell_type": "markdown",
   "id": "9d67c303",
   "metadata": {},
   "source": [
    "1. ¿Cuál es la característica más definitoria de una red libre de escala que la diferencia de una red aleatoria\n",
    "(Erdős-Rényi)? Explique por qué esta característica obliga a los modeladores a ir más allá de los modelos\n",
    "que se basan únicamente en propiedades promedio (como el modelo SIR clásico).\n",
    "\n",
    "- La diferencia clave entre una red libre de escala y una red aleatoria es que la primera una ley de potencia, puesto qu existen nodos que tendrán grandes cantidades de conexiones, así como otros qu tendran pocas cantidades. Por otro lado, una red aleatoria Erdős-Rényi tiene una distribución de conexiones cercana a la de Poisson. Es decir, casi todos los nodos tiene un número de conexiones cercano al promedio.\n",
    "<br>\n",
    "<br>\n",
    "Esta característica obliga a los modeladores a ir más allá de enfoques basados en propiedades promedio, como el modelo SIR clásico, porque el comportamiento global de la red no depende de un nodo “estándar”, sino de la existencia de estos hubs (que conectan a varios nodos entre sí). En una red libre de escala, la propagación de información o de una enfermedad puede verse dominada por estos nodos altamente conectados, lo que hace que las predicciones basadas solo en el promedio sean realmente poco realistas.\n",
    "\n",
    "<br>\n",
    "\n",
    "2. Considere la fórmula de la ley de potencia vista en clase. ¿Qué implica un valor menor de gamma (por\n",
    "ejemplo, 2,1 frente a 3,5) sobre la prevalencia de nodos altamente conectados en la red?\n",
    "\n",
    "- Un valor menor de gamma (por ejemplo, γ=2.1) implica que la probabilidad de encontrar nodos con grados muy altos es mayor que cuando el exponente es mayor (como γ=3.5). En otras palabras, mientras más bajo es el valor de gamma, más común es que existan hubs extremadamente conectados en la red. Esto significa que la estructura de la red se vuelve aún más desproporcionada, puesto que la mayoría de los nodos sigue teniendo pocas conexiones, pero unos cuantos concentran una influencia desbalanceada en la dinámica de propagación.\n",
    "\n",
    "<br>\n",
    "\n",
    "3. ¿Por qué el número reproductivo básico R0 para una enfermedad que se propaga en una red libre de escala\n",
    "depende de la varianza de la distribución de grados, no solo de la media?\n",
    "\n",
    "- El número reproductivo básico para una enfermedad que se propaga en una red libre de ecala depende de la varianza de la distribución de grados, no solo de la media porque la propagación depende fuertemente de la conectividad que tenga el nodo infectado. Si la varianza es muy grande, los hubs hacen que incluso con un valor promedio moderado de conexiones, la enfermedad pueda extenderse rápidamente. Por ello, la varianza se convierte en un factor central para determinar si la epidemia se mantiene o desaparece.\n",
    "\n",
    "\n",
    "<br>\n",
    "\n",
    "4. ¿Por qué las intervenciones dirigidas (p. ej., centrar las pruebas, el uso de mascarillas o la vacunación en los\n",
    "centros de la red) son particularmente eficaces y eficientes en una red sin escala en comparación con una\n",
    "red aleatoria? Explíquelo desde una perspectiva matemática y práctica.\n",
    "\n",
    "- En redes libres de escala, las intervenciones dirigidas hacia los hubs son especialmente eficaces porque estos nodos concentran una gran proporción de las conexiones y, por tanto, del potencial de transmisión. Desde un punto de vista matemático, eliminar o proteger a los nodos con grados muy altos reduce de manera drástica tanto la media como la varianza de la distribución de grados, disminuyendo la razón (k^2/k) que sostiene la propagación. En términos prácticos, en lugar de dispersar recursos uniformemente (como en una red aleatoria), focalizarlos en los puntos críticos logra un impacto mucho mayor con menor costo, lo que se traduce en intervenciones más eficientes."
   ]
  },
  {
   "cell_type": "markdown",
   "id": "ff46ca80",
   "metadata": {},
   "source": [
    "### **Referencias**\n",
    "\n",
    "1. Evidence for additional structure in real networks - Math Insight. (s. f.). https://mathinsight.org/evidence_additional_structure_real_networks\n",
    "\n",
    "2. Scale-free networks, a controversial topic solved by extreme mathematics – The Network Pages. (s. f.). https://www.networkpages.nl/scale-free-networks-a-controversial-topic-properly-solved-by-extreme-mathematics/\n",
    "\n"
   ]
  }
 ],
 "metadata": {
  "language_info": {
   "name": "python"
  }
 },
 "nbformat": 4,
 "nbformat_minor": 5
}
