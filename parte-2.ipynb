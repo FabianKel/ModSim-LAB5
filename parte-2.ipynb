{
 "cells": [
  {
   "cell_type": "markdown",
   "id": "ec97e0ac",
   "metadata": {},
   "source": [
    "# **Laboratorio 5**\n",
    "## **Parte 2**\n",
    "\n",
    "- Derek Arreaga - 22537\n",
    "- Paula Barillas - 22764\n",
    "- Mónica Salvatierra - 22249\n",
    "\n",
    "Link del repositorio: https://github.com/FabianKel/ModSim-LAB5"
   ]
  },
  {
   "cell_type": "markdown",
   "id": "1c0ff267",
   "metadata": {},
   "source": [
    "### **Teoría**\n",
    "\n",
    "Defina y responda"
   ]
  },
  {
   "cell_type": "markdown",
   "id": "9d67c303",
   "metadata": {},
   "source": [
    "1. Usted es un analista de infraestructura crítica encargado de evaluar dos sistemas: la red nacional de aeropuertos (que se aproxima a un modelo libre de escala) y la red de alcantarillado de una ciudad (que se aproxima a un retículo o red de mundo pequeño con pocas conexiones largas). ¿Cuál de las dos redes es más vulnerable a fallos aleatorios (ej. una tubería se rompe al azar o un aeropuerto pequeño cierra por mal tiempo)? ¿Y cuál es más vulnerable a ataques dirigidos (ej. un ataque coordinado a los 5 aeropuertos más grandes o a las 5 estaciones de bombeo principales)? Justifique su respuesta basándose en la distribución de grado y la presencia de hubs en cada modelo."
   ]
  },
  {
   "cell_type": "markdown",
   "id": "2a2cafcb",
   "metadata": {},
   "source": [
    "* Una **red libre de escala** tiene una distribución de grado con cola pesada: unos pocos nodos concentran muchas conexiones y la mayoría tiene muy pocas.\n",
    "    - Fallos aleatorios: al eliminar nodos al azar la probabilidad de afectar un hub es baja ya que la conectividad global se mantiene.\n",
    "    - Ataques dirigidos: si se atacan los hubs, se rompen las arterias principales y la red se fragmentaría rápidamente.\n",
    "\n",
    "* Un **retículo** / red tipo **mundo pequeño** no tiene hubs prominentes. La eliminación aleatoria de nodos afectaría uniformemente y puede fragmentar la red localmente. Atacar los 5 más grandes tendría un impacto menor porque esos nodos no dominan la conectividad completa.\n",
    "\n",
    "* **Resumen:**\n",
    "\n",
    "    | |Red libre de escala | Retículo / Mundo pequeño |\n",
    "    |---|---|---|\n",
    "    | Ataque Dirigido| **Más** Vulnerable (Atacar los aeropuertos más grandes) | **Menos** Vulnerable porque no hay hubs extremos |\n",
    "    | Fallo Aleatorio| **Menos** Vulnerable (La red seguirá conectada) | **Más** vulnerable porque la mayoría de nodos tienen grado similar |\n"
   ]
  },
  {
   "cell_type": "markdown",
   "id": "738896a3",
   "metadata": {},
   "source": [
    "2. El modelo de Barabási-Albert asume dos condiciones clave: (1) la red está en constante crecimiento y (2) los nuevos nodos se conectan con preferencia a los nodos más conectados. Describa un ejemplo de una red del mundo real donde al menos una de estas dos suposiciones no se cumpla. Explique por qué el modelo Barabási-Albert sería una representación inadecuada para esa red."
   ]
  },
  {
   "cell_type": "markdown",
   "id": "76cbd259",
   "metadata": {},
   "source": [
    "Un ejemplo de red donde puede no aplicarse del todo las condiciones del modelo de Barabási-Albert es en una **red de metro** en una ciudad antigua.\n",
    "\n",
    "- **1. Red en constante crecimiento**:\n",
    "\n",
    "    En el caso de una red de metro, llega un punto donde el crecimiento es limitado o incluso se detiene. No suelen haber nuevas estaciones o líneas muy frecuentemente ya sea por espacio o costos.\n",
    "\n",
    "- **2. Conexión preferencial restringida**:\n",
    "\n",
    "    Si bien en una red de metro las estaciones centrales tienden a tener más conexiones,las nuevas estaciones no necesariamente estarán conectadas a estas por preferencia. Por ejemplo si se construye una nueva estación en un área para mejorar la accesibilidad local, esta se conectará a una estación menos concurrida en lugar de una central. Y así es como se puede contradecir la idea de conexión preferencial.\n",
    "\n",
    "El modelo **Barabási-Albert** es inadecuado para esta red ya que en el caso de los metros se suele tener una topología relativamente fija y no se espera un crecimiento constante. Además, el grado de conexiones de un nodo estará limitado físicamente, contradiciendo la condición de que los nodos nuevos se conectan con preferencia a los más concurridos.\n"
   ]
  },
  {
   "cell_type": "markdown",
   "id": "996ae461",
   "metadata": {},
   "source": [
    "3. En el modelo de Watts-Strogatz, el parámetro de recableado p es la clave para sintonizar la red entre orden y aleatoriedad. **Describa qué sucede con el coeficiente de agrupamiento promedio** y la **longitud de camino promedio** de la red a medida que p varía desde 0 hasta 1. ¿Por qué un valor de p muy pequeño (ej. 0.01) es tan efectivo para reducir drásticamente la longitud del camino promedio sin destruir el agrupamiento local?"
   ]
  },
  {
   "cell_type": "markdown",
   "id": "0761b81a",
   "metadata": {},
   "source": [
    "- Cuando $p$ varía de 0 a 1:\n",
    "    - $(p = 0)$ (anillo regular):\n",
    "        * **Alto coeficiente de agrupamiento** (clustering local fuerte).\n",
    "        * **Larga longitud de camino promedio** (camino típico entre dos nodos es grande).\n",
    "    - $0 < p \\ll 1$ (pequeño recableado):\n",
    "        * **Coeficiente de agrupamiento** se mantiene alto o disminuye muy poco.\n",
    "        * **Longitud de camino promedio** cae **drásticamente** (se introducen atajos).\n",
    "        * Resultado: *mundo pequeño* — combinación de clustering y caminos cortos.\n",
    "    - $p \\approx 1$ (red aleatoria):\n",
    "        * **Bajo clustering**.\n",
    "        * **Longitud de camino promedio** muy corto (propio de redes aleatorias).\n",
    "\n",
    "Un $p$ muy pequeño reduce fuertemente la distancia sin destruir el clustering porque:\n",
    "- Un pequeño número de aristas \"recableadas\" crea atajos que conectan regiones lejanas del anillo regular.\n",
    "- Esos atajos acortan enormemente las rutas típicas porque permiten saltar grandes tramos localmente.\n",
    "- Como solo unas pocas aristas cambian, la mayoría de la estructura local permanece intacta, por eso el **clustering** se conserva mientras la **distancia promedio** se reduce mucho.\n",
    "-  Intuitivo: unas pocas autopistas entre barrios reducen tiempos de viaje sin eliminar las calles locales.\n",
    "\n",
    "\n"
   ]
  },
  {
   "cell_type": "markdown",
   "id": "b7d6b8ee",
   "metadata": {},
   "source": [
    "4. Piense en la red de amistades dentro de una red social como Facebook o Instagram. Esta red muestra características de varios modelos: tiene comunidades muy unidas (grupos de la universidad, compañeros de trabajo), lo que sugiere un modelo de mundo pequeño. Al mismo tiempo, tiene \"influencers\" o celebridades con millones de seguidores, lo que es característico de una red libre de escala. ¿Cómo podría un modelo de simulación capturar ambas propiedades? Proponga una regla generativa conceptual (no necesita escribir\n",
    "código) para construir una red que sea a la vez comunitaria y tenga hubs"
   ]
  },
  {
   "cell_type": "markdown",
   "id": "cdba2cf5",
   "metadata": {},
   "source": [
    "\n",
    "\n",
    "- Para construir redes que tengan **comunidades muy cohesionadas** y, a la vez, **hubs** con gran grado, como en el caso de influencers, conectando muchas comunidades, se puede seguir la siguiente estructura:\n",
    "\n",
    "\n",
    "1. **Generar comunidades locales (bloques densos)**\n",
    "\n",
    "   * Partir la población en $k$ comunidades, como universidades, empresas, condominios.\n",
    "   * Dentro de cada comunidad, conectar nodos con probabilidad alta, Creando un alto clustering local.\n",
    "\n",
    "2. **Introducir unos pocos nodos con potencial de hub**\n",
    "\n",
    "   * Seleccionar aleatoriamente o por distribución un conjunto pequeño de nodos candidatos a *influencers*.\n",
    "   * Para cada nuevo nodo influencer, conectar **preferencialmente** hacia nodos ya con alto grado global pero permitiendo conexiones hacia múltiples comunidades con un puente inter-bloques.\n",
    "\n",
    "3. **Añadir enlaces inter-comunidad**\n",
    "\n",
    "   * Con baja probabilidad crear enlaces aleatorios entre nodos de distintas comunidades, creando atajos al estilo mundo pequeño.\n",
    "   * Además, forzar que los influencers tengan una probabilidad elevada de conectar a nodos en todas las comunidades generando hubs globales.\n",
    "\n",
    "4. **Iteración y balance**\n",
    "\n",
    "   * Repetir la adición de nodos y enlaces hasta alcanzar tamaño deseado. Ajustar las probabilidades para controlar la densidad interna, número de puentes y presencia de hub.\n",
    "\n",
    "Esta estructura captura ambas propiedades por:\n",
    "\n",
    "* Los **poblados densos** dentro de bloques generan el **clustering/comunidades** observado.\n",
    "* Las conexiones preferenciales y la regla que permite a ciertos nodos (influencers) conectarse a muchas comunidades generan **hubs globales** que replican la cola pesada de grados.\n",
    "* La pequeña probabilidad de crear enlaces aleatorios entre distintas comunidades y la presencia selectiva de hubs mantiene caminos cortos entre comunidades (característica de mundo pequeño)."
   ]
  },
  {
   "cell_type": "markdown",
   "id": "ff46ca80",
   "metadata": {},
   "source": [
    "### **Referencias**\n",
    "\n",
    "1. Las redes de Barabasi-Albert ¡No son un buen ejemplo de redes libres de escala! - Medium. (s. f.). https://medium.com/@JuanEnredado/las-redes-de-barabasi-albert-no-son-un-buen-ejemplo-de-redes-libres-de-escala-1abbd0aca529\n",
    "\n",
    "2. Scale-free networks, a controversial topic solved by extreme mathematics – The Network Pages. (s. f.). https://www.networkpages.nl/scale-free-networks-a-controversial-topic-properly-solved-by-extreme-mathematics/\n",
    "\n"
   ]
  }
 ],
 "metadata": {
  "language_info": {
   "name": "python"
  }
 },
 "nbformat": 4,
 "nbformat_minor": 5
}
